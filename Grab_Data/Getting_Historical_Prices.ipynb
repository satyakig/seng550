{
 "cells": [
  {
   "cell_type": "markdown",
   "metadata": {},
   "source": [
    "# Overview #\n",
    "This script is used to get historical stock prices and other technical data for a list of companies in **ticker** list."
   ]
  },
  {
   "cell_type": "code",
   "execution_count": null,
   "metadata": {
    "collapsed": false
   },
   "outputs": [],
   "source": [
    "import eikon as ek\n",
    "import pandas as pd\n",
    "import numpy as np\n",
    "import datetime as dt\n",
    "import bs4 as bs\n",
    "import requests\n",
    "import urllib2\n",
    "\n",
    "ek.set_app_id('DeNovoQuantFund')"
   ]
  },
  {
   "cell_type": "markdown",
   "metadata": {},
   "source": [
    "### Stock List ###"
   ]
  },
  {
   "cell_type": "code",
   "execution_count": null,
   "metadata": {
    "collapsed": false
   },
   "outputs": [],
   "source": [
    "ticker_list = pd.read_csv('/Users/paindox/Documents/Udemy Apps/DeNovo Quant Fund Stuff/Eikon_Datasets/NASDAQ_mid_2018_review/Fundamental_data_for_top_NASDAQ.csv')"
   ]
  },
  {
   "cell_type": "code",
   "execution_count": null,
   "metadata": {
    "collapsed": true
   },
   "outputs": [],
   "source": [
    "ticker_list = ticker_list['Instrument'].unique()"
   ]
  },
  {
   "cell_type": "code",
   "execution_count": null,
   "metadata": {
    "collapsed": true
   },
   "outputs": [],
   "source": [
    "# Get tickers from NASDAQ text file.\n",
    "NASDAQ_tickers = open(\"/Users/paindox/Documents/Udemy Apps/DeNovo Quant Fund Stuff/Eikon_Datasets/nasdaqlisted.txt\",\"r\")\n",
    "lines = NASDAQ_tickers.readlines()\n",
    "ticker_list = []\n",
    "N = len(lines)\n",
    "for i, line in enumerate(lines):\n",
    "    if i > 0 and i < N:\n",
    "        ticker_list.append(line.split(\"|\")[0])\n",
    "NASDAQ_tickers.close()"
   ]
  },
  {
   "cell_type": "markdown",
   "metadata": {},
   "source": [
    "## Price and Technical Daily Data "
   ]
  },
  {
   "cell_type": "code",
   "execution_count": null,
   "metadata": {
    "collapsed": false
   },
   "outputs": [],
   "source": [
    "technical_fields = [\n",
    "ek.TR_Field('TR.EVToSales'),\n",
    "ek.TR_Field('TR.PE'),\n",
    "ek.TR_Field('TR.PriceToSalesPerShare'),\n",
    "ek.TR_Field('TR.PriceToBVPerShare'),\n",
    "ek.TR_Field('TR.PriceToCFPerShare'),\n",
    "ek.TR_Field('TR.TotalDebtToEBITDA'),\n",
    "ek.TR_Field('TR.TotalDebtToEV'),\n",
    "ek.TR_Field('TR.Volume'),\n",
    "ek.TR_Field('TR.PriceClose'),\n",
    "ek.TR_Field('TR.PriceClose.date')\n",
    "]\n",
    "\n",
    "technical_fields.sort()"
   ]
  },
  {
   "cell_type": "markdown",
   "metadata": {},
   "source": [
    "## Getting Eikon Tickers\n",
    "Tickers read from files don't have the proper Eikon extensions. This function tries to find the appropriate Eikon extension for each ticker."
   ]
  },
  {
   "cell_type": "code",
   "execution_count": null,
   "metadata": {
    "collapsed": true
   },
   "outputs": [],
   "source": [
    "# Getting correct ticker name\n",
    "def get_eikon_ticker_name(ticker,f = [ek.TR_Field('TR.RevenuePerShare')], end_date = '2019-01-01'):\n",
    "\n",
    "    ticker = str(ticker)\n",
    "    ticker1 = str(ticker)\n",
    "    \n",
    "    ticker = ticker1 + '.O'\n",
    "    df_fundamental, err = ek.get_data([ticker], fields= f,parameters={'SDate':'2017-01-01', 'EDate': end_date,\n",
    "                                                                      'Frq': 'D'})\n",
    "    if err is None:\n",
    "        return ticker\n",
    "\n",
    "    ticker = ticker1 + '.OQ'\n",
    "    df_fundamental, err = ek.get_data([ticker], fields= f,parameters={'SDate':'2017-01-01', 'EDate': end_date, \n",
    "                                                                      'Frq': 'D'})\n",
    "    if err is None:\n",
    "        return ticker\n",
    "    \n",
    "    ticker = ticker1 + '.TO'\n",
    "    df_fundamental, err = ek.get_data([ticker], fields= f,parameters={'SDate':'2017-01-01', 'EDate': end_date, \n",
    "                                                                      'Frq': 'D'})\n",
    "    if err is None:\n",
    "        return ticker\n",
    "\n",
    "    ticker = ticker1 + '.N'\n",
    "    df_fundamental, err = ek.get_data([ticker], fields= f,parameters={'SDate':'2017-01-01', 'EDate': end_date, \n",
    "                                                                      'Frq': 'D'})\n",
    "    if err is None:\n",
    "        return ticker\n",
    "    \n",
    "    ticker = ticker1\n",
    "    df_fundamental, err = ek.get_data([ticker], fields= f,parameters={'SDate':'2017-01-01', 'EDate': '2018-01-01'})\n",
    "\n",
    "    if err is None:\n",
    "        return ticker\n",
    "\n",
    "    print('Ticker {} not found'.format(ticker1))\n",
    "    return None"
   ]
  },
  {
   "cell_type": "markdown",
   "metadata": {},
   "source": [
    "## Pulling Technical and Daily Data"
   ]
  },
  {
   "cell_type": "code",
   "execution_count": null,
   "metadata": {
    "collapsed": true
   },
   "outputs": [],
   "source": [
    "# Getting Data for Analysis\n",
    "def get_technical_and_price_data(ticker, f, start_date1, end_date1):\n",
    "    \n",
    "    try:\n",
    "        # Grab daily technical and pricing data.\n",
    "        df_tech,err = ek.get_data([ticker], fields= technical_fields,parameters={\n",
    "            'SDate': start_date1, 'EDate': end_date1, 'Frq': 'D' })\n",
    "        \n",
    "        return(df_tech)\n",
    "    \n",
    "    except:\n",
    "        \n",
    "        print('Error for {}'.format(ticker))\n",
    "        return(0)"
   ]
  },
  {
   "cell_type": "markdown",
   "metadata": {},
   "source": [
    "### Getting all stock prices ###"
   ]
  },
  {
   "cell_type": "code",
   "execution_count": null,
   "metadata": {
    "collapsed": true
   },
   "outputs": [],
   "source": [
    "# Getting Start and End Dates\n",
    "\n",
    "start_date = dt.datetime(1990,1,1)\n",
    "end_date = dt.datetime.today()\n",
    "start_date1 = start_date.strftime('%Y-%m-%d')\n",
    "end_date1 = end_date.strftime('%Y-%m-%d')"
   ]
  },
  {
   "cell_type": "markdown",
   "metadata": {},
   "source": [
    "## Creating technical and price dataset"
   ]
  },
  {
   "cell_type": "code",
   "execution_count": null,
   "metadata": {
    "collapsed": true
   },
   "outputs": [],
   "source": [
    "def write_tech_data(final_file, file_name):\n",
    "    df = final_file\n",
    "    df.sort_values(by= ['Instrument','Date'],inplace=True)\n",
    "    df.dropna(how=\"all\", inplace=True)\n",
    "    # Write data to csv.\n",
    "    df.to_csv(file_name)\n",
    "    print(\"File Printed\")"
   ]
  },
  {
   "cell_type": "code",
   "execution_count": null,
   "metadata": {
    "collapsed": false,
    "scrolled": true
   },
   "outputs": [],
   "source": [
    "final_file = None\n",
    "cur_file = None\n",
    "write_file = False\n",
    "for i,tick in enumerate(ticker_list):\n",
    "    \n",
    "    # Write data to csv every 200 iterations.\n",
    "    # Flag used in case on the 200th iteration the API call fails.\n",
    "    # Want to make it so the current dataframe is written on the next successsful API call.\n",
    "    if i > 0 and i % 200 == 0:\n",
    "        write_file = True\n",
    "    try:\n",
    "        tick = get_eikon_ticker_name(tick, end_date = end_date1)\n",
    "        if tick:\n",
    "            cur_file = get_technical_and_price_data(tick, technical_fields,\n",
    "                                                    start_date1, end_date1)\n",
    "\n",
    "        if (final_file is None and isinstance(cur_file, pd.DataFrame)):\n",
    "            final_file = cur_file\n",
    "        \n",
    "        # Write to csv evey 200 tickers, if the final_file dataframe is populated.\n",
    "        elif (write_file and isinstance(final_file, pd.DataFrame)):\n",
    "            write_file = False\n",
    "            file_name = '/Users/paindox/Documents/Udemy Apps/DeNovo Quant Fund Stuff/Eikon_Datasets/NASDAQ_2019_Fund_Data/NASDAQ_tech_and_price_data_{}.csv'.format(i)\n",
    "            write_tech_data(final_file, file_name)\n",
    "            if isinstance(cur_file, pd.DataFrame):\n",
    "                final_file = cur_file\n",
    "            else:\n",
    "                final_file = None\n",
    "\n",
    "        elif (isinstance(cur_file, pd.DataFrame)):\n",
    "            final_file = final_file.append(cur_file, ignore_index = True)\n",
    "\n",
    "    except urllib2.HTTPError as err:\n",
    "        print('HTTPError for tick {}'.format(tick))\n",
    "        print('Error message: {}'.format(err))\n",
    "    except:\n",
    "        print('Some error occurred for tick {}.'.format(tick))\n",
    "    \n",
    "   \n",
    "    print(i)\n",
    "\n",
    "if isinstance(final_file, pd.DataFrame): \n",
    "    file_name = '/Users/paindox/Documents/Udemy Apps/DeNovo Quant Fund Stuff/Eikon_Datasets/NASDAQ_2019_Fund_Data/NASDAQ_tech_and_price_data_{}.csv'.format(len(ticker_list))\n",
    "    write_tech_data(final_file, file_name)\n",
    "print('DONE!')"
   ]
  },
  {
   "cell_type": "code",
   "execution_count": null,
   "metadata": {
    "collapsed": true
   },
   "outputs": [],
   "source": []
  }
 ],
 "metadata": {
  "kernelspec": {
   "display_name": "Python 2",
   "language": "python",
   "name": "python2"
  },
  "language_info": {
   "codemirror_mode": {
    "name": "ipython",
    "version": 2
   },
   "file_extension": ".py",
   "mimetype": "text/x-python",
   "name": "python",
   "nbconvert_exporter": "python",
   "pygments_lexer": "ipython2",
   "version": "2.7.13"
  }
 },
 "nbformat": 4,
 "nbformat_minor": 2
}
